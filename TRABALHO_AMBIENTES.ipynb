{
 "cells": [
  {
   "cell_type": "code",
   "execution_count": 98,
   "metadata": {},
   "outputs": [],
   "source": [
    "import requests\n",
    "import json\n",
    "from datetime import datetime\n",
    "import typer\n",
    "\n",
    "API_KEY = \"9fa7ce317d6e85c90d92244adb9146c6\"  # Substitua pela sua chave de API\n",
    "BASE_URL = \"https://api.itjobs.pt/job/list.json\"\n",
    "\n",
    "app = typer.Typer()\n",
    "\n",
    "def fetch_jobs(params):\n",
    "    headers = {\n",
    "        \"Content-Type\": \"application/json\",\n",
    "        \"User-Agent\": \"Mozilla/5.0 (Windows NT 10.0; Win64; x64) AppleWebKit/537.36 (KHTML, like Gecko) Chrome/91.0.4472.124 Safari/537.36\"\n",
    "    }\n",
    "    \n",
    "    response = requests.get(BASE_URL, params=params, headers=headers)\n",
    "    \n",
    "    if response.status_code == 200:\n",
    "        return response.json()\n",
    "    else:\n",
    "        print(f\"Erro ao obter dados: {response.status_code} - {response.text}\")\n",
    "        return None\n",
    "\n",
    "@app.command()\n",
    "def top(n: int):\n",
    "    \"\"\"Listar os N trabalhos mais recentes publicados pela itjobs.pt\"\"\"\n",
    "    params = {\n",
    "        \"api_key\": API_KEY,\n",
    "        \"limit\": n,\n",
    "        \"page\": 1\n",
    "    }\n",
    "    \n",
    "    dados = fetch_jobs(params)\n",
    "    \n",
    "    if dados and 'results' in dados:\n",
    "        trabalhos = []\n",
    "        \n",
    "        for trabalho in dados['results']:\n",
    "            titulo = trabalho['title']\n",
    "            data_publicacao = trabalho['publishedAt']\n",
    "            data_publicacao = datetime.strptime(data_publicacao, \"%Y-%m-%d %H:%M:%S\")\n",
    "            \n",
    "            trabalhos.append({\n",
    "                \"title\": titulo,\n",
    "                \"publishedAt\": data_publicacao.strftime(\"%Y-%m-%d %H:%M:%S\")\n",
    "            })\n",
    "        \n",
    "        trabalhos_ordenados = sorted(trabalhos, key=lambda x: x['publishedAt'], reverse=True)\n",
    "        \n",
    "        print(json.dumps(trabalhos_ordenados, indent=2, ensure_ascii=False))\n",
    "    else:\n",
    "        print(\"Nenhum trabalho encontrado.\")\n",
    "        \n",
    "def search_data():\n",
    "  not_found = 1\n",
    "  URL = 'https://api.itjobs.pt/job/list.json?api_key=9fa7ce317d6e85c90d92244adb9146c6'\n",
    "  request = requests.get(URL,headers={'User-Agent':'Mozilla/5.0 (Windows NT 10.0; Win64; x64; rv:109.0) Gecko/20100101 Firefox/118.0'})\n",
    "  data = request.json()\n",
    "  alldata={}\n",
    "  total_pages = math.ceil(data['total']/12)\n",
    "  for rep in range(total_pages):\n",
    "      datasets = requests.get(URL, params={'limit': 12, 'page':rep+1},headers={'User-Agent':'Mozilla/5.0 (Windows NT 10.0; Win64; x64; rv:109.0) Gecko/20100101 Firefox/118.0'}).json()\n",
    "      results = datasets['results']\n",
    "      for item in results:\n",
    "        if item['company']['name'] == company:\n",
    "          not_found = 0\n",
    "          return item['company']['id']\n",
    "  if not_found == 1:\n",
    "    return False\n",
    "  return alldata"
   ]
  },
  {
   "cell_type": "code",
   "execution_count": 85,
   "metadata": {},
   "outputs": [
    {
     "name": "stdout",
     "output_type": "stream",
     "text": [
      "[\n",
      "  {\n",
      "    \"title\": \"SAP Cloud ALM Consultant\",\n",
      "    \"publishedAt\": \"2024-11-05 12:08:10\"\n",
      "  },\n",
      "  {\n",
      "    \"title\": \"Azure Integration Developer Specialist\",\n",
      "    \"publishedAt\": \"2024-11-05 12:07:20\"\n",
      "  },\n",
      "  {\n",
      "    \"title\": \"Embedded Systems Engineer - Funchal\",\n",
      "    \"publishedAt\": \"2024-11-05 12:07:11\"\n",
      "  },\n",
      "  {\n",
      "    \"title\": \"Python Developer\",\n",
      "    \"publishedAt\": \"2024-11-05 12:07:00\"\n",
      "  },\n",
      "  {\n",
      "    \"title\": \"COBOL Developer\",\n",
      "    \"publishedAt\": \"2024-11-05 12:06:56\"\n",
      "  },\n",
      "  {\n",
      "    \"title\": \"DevOps Manager\",\n",
      "    \"publishedAt\": \"2024-11-05 12:06:51\"\n",
      "  },\n",
      "  {\n",
      "    \"title\": \".Net Software Developer\",\n",
      "    \"publishedAt\": \"2024-11-05 12:06:48\"\n",
      "  },\n",
      "  {\n",
      "    \"title\": \"Project Manager\",\n",
      "    \"publishedAt\": \"2024-11-05 12:06:36\"\n",
      "  },\n",
      "  {\n",
      "    \"title\": \"Full Stack Developer Java com React\",\n",
      "    \"publishedAt\": \"2024-11-05 12:06:32\"\n",
      "  },\n",
      "  {\n",
      "    \"title\": \"Fullstack Developer - NodeJS and ReactJS\",\n",
      "    \"publishedAt\": \"2024-11-05 12:06:24\"\n",
      "  }\n",
      "]\n"
     ]
    }
   ],
   "source": [
    "top(10)\n"
   ]
  },
  {
   "cell_type": "code",
   "execution_count": 100,
   "metadata": {},
   "outputs": [
    {
     "name": "stdout",
     "output_type": "stream",
     "text": [
      "[]\n"
     ]
    }
   ],
   "source": [
    "search(\"Braga\", \"EmpresaX\", 4)"
   ]
  }
 ],
 "metadata": {
  "kernelspec": {
   "display_name": "Python 3",
   "language": "python",
   "name": "python3"
  },
  "language_info": {
   "codemirror_mode": {
    "name": "ipython",
    "version": 3
   },
   "file_extension": ".py",
   "mimetype": "text/x-python",
   "name": "python",
   "nbconvert_exporter": "python",
   "pygments_lexer": "ipython3",
   "version": "3.12.7"
  }
 },
 "nbformat": 4,
 "nbformat_minor": 2
}
